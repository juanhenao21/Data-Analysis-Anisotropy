{
 "cells": [
  {
   "cell_type": "markdown",
   "metadata": {},
   "source": [
    "###### Algorithm to plot the magnetization curves and compute the critical temperatures and critical exponents of magnetic thin films varying the thickness. The simulation was made using a constant anisotropy K = 0.1, and changing a parameter Gamma (0.037, 0.111, 0.333, 1.000, 3.000 and 9.000) related with the superficial anisotropy. The thickness used in the simulation were d = 2, 4, 6, 8, 10, 12, 14 and 16. The critical temperature was obtained using a regression with the library curve_fit, that also give us the critical exponent of each simulation."
   ]
  },
  {
   "cell_type": "code",
   "execution_count": 1,
   "metadata": {
    "collapsed": true
   },
   "outputs": [],
   "source": [
    "#%matplotlib inline"
   ]
  },
  {
   "cell_type": "markdown",
   "metadata": {},
   "source": [
    "# Files management"
   ]
  },
  {
   "cell_type": "code",
   "execution_count": 2,
   "metadata": {
    "collapsed": true
   },
   "outputs": [],
   "source": [
    "import glob\n",
    "import re\n",
    "import collections\n",
    "import os"
   ]
  },
  {
   "cell_type": "code",
   "execution_count": 3,
   "metadata": {
    "collapsed": false
   },
   "outputs": [],
   "source": [
    "# Glob sirve para buscar archivos\n",
    "files = {g: sorted(glob.glob('../d*/k0.1/gamma%s/resultados.dat' % g)) for g in ('0.037', '0.111', '0.333', '1.000', '3.000', '9.000')}\n",
    "files = collections.OrderedDict(sorted(files.items()))\n",
    "\n",
    "filename = re.compile(r'../d(?P<d>\\d+)/k[0-9.]+/gamma[0-9.]+/resultados.dat')\n",
    "\n",
    "for gamma, filenames in files.items():\n",
    "    for file in filenames:\n",
    "        match = filename.match(file)\n",
    "        \n",
    "os.makedirs('../01Magnetization_Curves')\n",
    "os.makedirs('../02Critical_Values')"
   ]
  },
  {
   "cell_type": "markdown",
   "metadata": {},
   "source": [
    "###### The file 'resultados.dat'  contains the following columns with information\n",
    "\n",
    "- Temperature\n",
    "- Mean Energy\n",
    "- Normalized Energy\n",
    "- Specific Heat\n",
    "- Mean Magnetization\n",
    "- Normalized Magnetization\n",
    "- Susceptibilty"
   ]
  },
  {
   "cell_type": "markdown",
   "metadata": {},
   "source": [
    "# Importing Modules"
   ]
  },
  {
   "cell_type": "code",
   "execution_count": 4,
   "metadata": {
    "collapsed": true
   },
   "outputs": [],
   "source": [
    "import numpy as np\n",
    "from matplotlib import pyplot as plt\n",
    "from numpy import loadtxt\n",
    "from scipy.optimize import curve_fit"
   ]
  },
  {
   "cell_type": "markdown",
   "metadata": {},
   "source": [
    "###### Function to obtain the value of the critical temperature and the critical exponent using curve_fit."
   ]
  },
  {
   "cell_type": "code",
   "execution_count": 5,
   "metadata": {
    "collapsed": true
   },
   "outputs": [],
   "source": [
    "def magnetization(T, Tc, beta, A):\n",
    "    result = np.zeros_like(T)\n",
    "    result[T < Tc] = A * (1 - T[T < Tc] / Tc) ** beta\n",
    "    return result"
   ]
  },
  {
   "cell_type": "markdown",
   "metadata": {},
   "source": [
    "###### Ploting Magnetization vs Temperature for each Gamma and different thickness. Computation of the values of the critical temperatures and critical exponents of each simulation."
   ]
  },
  {
   "cell_type": "code",
   "execution_count": 16,
   "metadata": {
    "collapsed": false
   },
   "outputs": [
    {
     "name": "stdout",
     "output_type": "stream",
     "text": [
      "\n",
      "Gamma =  0.037\n",
      "d =  02\n",
      "Tc (d 02 ) =  459.184629477\n",
      "Ec (d 02 ) =  3.9212393355 \n",
      "\n",
      "d =  08\n",
      "Tc (d 08 ) =  391.183939966\n",
      "Ec (d 08 ) =  0.483567595919 \n",
      "\n",
      "d =  16\n",
      "Tc (d 16 ) =  403.149323281\n",
      "Ec (d 16 ) =  0.441496665966 \n",
      "\n",
      "\n",
      "Gamma =  0.111\n",
      "d =  02\n",
      "Tc (d 02 ) =  415.495398597\n",
      "Ec (d 02 ) =  3.13465753985 \n",
      "\n",
      "d =  08\n",
      "Tc (d 08 ) =  398.10351107\n",
      "Ec (d 08 ) =  0.564401718692 \n",
      "\n",
      "d =  16\n",
      "Tc (d 16 ) =  400.046835539\n",
      "Ec (d 16 ) =  0.423542521367 \n",
      "\n",
      "\n",
      "Gamma =  0.333\n",
      "d =  02\n",
      "Tc (d 02 ) =  392.446418961\n",
      "Ec (d 02 ) =  2.70879619807 \n",
      "\n",
      "d =  08\n",
      "Tc (d 08 ) =  390.061398091\n",
      "Ec (d 08 ) =  0.471861863189 \n",
      "\n",
      "d =  16\n",
      "Tc (d 16 ) =  397.264673297\n",
      "Ec (d 16 ) =  0.397805896618 \n",
      "\n",
      "\n",
      "Gamma =  1.000\n",
      "d =  02\n",
      "Tc (d 02 ) =  604.507161429\n",
      "Ec (d 02 ) =  6.85908188979 \n",
      "\n",
      "d =  08\n",
      "Tc (d 08 ) =  387.068469774\n",
      "Ec (d 08 ) =  0.450390999991 \n",
      "\n",
      "d =  16\n",
      "Tc (d 16 ) =  396.39625914\n",
      "Ec (d 16 ) =  0.386181843747 \n",
      "\n",
      "\n",
      "Gamma =  3.000\n",
      "\n",
      "Gamma =  9.000\n"
     ]
    }
   ],
   "source": [
    "for fileGamma in files:\n",
    "    file_save = open('../02Critical_Values/01aTc_k01_%s.txt' % fileGamma, 'a')\n",
    "    plt.figure(figsize=(16,9))\n",
    "\n",
    "    print(\"\\nGamma = \", fileGamma)\n",
    "    \n",
    "    for file in files[fileGamma]:\n",
    "        temp, mag = loadtxt(file, usecols=(0, 5, ), unpack=True)\n",
    "        d = filename.match(file).groupdict()['d']\n",
    "                \n",
    "        print(\"d = \", d)\n",
    "\n",
    "        plt.subplot(211)\n",
    "        plt.plot(temp, mag, label= \"$d = %s$\" % (d, ), linewidth=2)\n",
    "        plt.legend()\n",
    "        plt.xlabel('Temperatura (K)')\n",
    "        plt.ylabel('Magnetización')\n",
    "        plt.title('Curvas de Magnetización k = 0.1 - Gamma = %s' % fileGamma)\n",
    "        plt.grid(True)\n",
    "        plt.tight_layout()\n",
    "\n",
    "        params, corr = curve_fit(magnetization, temp, mag, p0 = (450, 0.5, 1.0))\n",
    "\n",
    "        plt.subplot(212)\n",
    "        plt.plot(temp,magnetization(temp,*params), label = \"$d = %s$\" % (d, ),linewidth=2)\n",
    "        plt.plot(temp, mag, 'ok', ms=2)\n",
    "        plt.legend()\n",
    "        plt.xlabel('Temperatura (K)')\n",
    "        plt.ylabel('Magnetización')\n",
    "        plt.grid(True)\n",
    "\n",
    "        print('Tc (d',d,') = ', params[0])\n",
    "        print('Ec (d',d,') = ', params[1], '\\n')\n",
    "\n",
    "        file_save.write(d)\n",
    "        file_save.write(' ')\n",
    "        file_save.write(str(params[0]))\n",
    "        file_save.write(' ')\n",
    "        file_save.write(str(params[1]))\n",
    "        file_save.write('\\n')\n",
    "\n",
    "    plt.savefig('../01Magnetization_Curves/01a_Graph_k01_Gamma%s.png' % fileGamma)\n",
    "    plt.show()\n",
    "\n",
    "    file_save.close()"
   ]
  },
  {
   "cell_type": "code",
   "execution_count": null,
   "metadata": {
    "collapsed": true
   },
   "outputs": [],
   "source": []
  }
 ],
 "metadata": {
  "kernelspec": {
   "display_name": "Python 3",
   "language": "python",
   "name": "python3"
  },
  "language_info": {
   "codemirror_mode": {
    "name": "ipython",
    "version": 3
   },
   "file_extension": ".py",
   "mimetype": "text/x-python",
   "name": "python",
   "nbconvert_exporter": "python",
   "pygments_lexer": "ipython3",
   "version": "3.5.0"
  }
 },
 "nbformat": 4,
 "nbformat_minor": 0
}
